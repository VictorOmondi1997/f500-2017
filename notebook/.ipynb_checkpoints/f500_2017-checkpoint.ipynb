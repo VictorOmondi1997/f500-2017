{
 "cells": [
  {
   "cell_type": "markdown",
   "metadata": {},
   "source": [
    "![Fortune 500 Global Companies](https://s3.amazonaws.com/dq-content/291/fortune-500.jpg)\n",
    "\n",
    "# Fortune 500 Companies 2017\n",
    "\n",
    "## Description\n",
    "\n",
    "**[Fortune 500 company list](https://fortune.com/fortune500/)** is a compilation of the largest companies in the United States as published by **[Fortune Magazine](https://fortune.com/)**\n",
    "\n",
    "## Data set\n",
    "\n",
    "The data set is a CSV file called `f500.csv`. Here is a data dictionary for some of the columns in the CSV:\n",
    "\n",
    "* **`company`:** Name of the company.\n",
    "* **`rank`:** Global 500 rank for the company.\n",
    "* **`revenues`:** Company's total revenue for the fiscal year, in millions of dollars (USD).\n",
    "* **`revenue_change`:** Percentage change in revenue between the current and prior fiscal year.\n",
    "* **`profits`:** Net income for the fiscal year, in millions of dollars (USD).\n",
    "* **`ceo`:** Company's Chief Executive Officer.\n",
    "* **`industry`:** Industry in which the company operates.\n",
    "* **`sector`:** Sector in which the company operates.\n",
    "* **`previous_rank`:** Global 500 rank for the company for the prior year.\n",
    "* **`country`:** Country in which the company is headquartered."
   ]
  },
  {
   "cell_type": "code",
   "execution_count": 1,
   "metadata": {},
   "outputs": [],
   "source": [
    "import pandas as pd\n",
    "import numpy as np\n",
    "import matplotlib.pyplot as plt\n",
    "%matplotlib inline"
   ]
  },
  {
   "cell_type": "code",
   "execution_count": null,
   "metadata": {},
   "outputs": [],
   "source": []
  }
 ],
 "metadata": {
  "kernelspec": {
   "display_name": "Python 3",
   "language": "python",
   "name": "python3"
  },
  "language_info": {
   "codemirror_mode": {
    "name": "ipython",
    "version": 3
   },
   "file_extension": ".py",
   "mimetype": "text/x-python",
   "name": "python",
   "nbconvert_exporter": "python",
   "pygments_lexer": "ipython3",
   "version": "3.6.5"
  }
 },
 "nbformat": 4,
 "nbformat_minor": 2
}
